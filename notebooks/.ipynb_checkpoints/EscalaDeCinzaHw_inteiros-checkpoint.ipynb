{
 "cells": [
  {
   "cell_type": "code",
   "execution_count": null,
   "metadata": {},
   "outputs": [],
   "source": [
    "from pynq import Overlay\n",
    "import pynq.lib.dma\n",
    "\n",
    "# Load the overlay\n",
    "overlay = Overlay('/home/xilinx/jupyter_notebooks/FIFOStream_Adder/FIFOStream_Adder.bit')\n",
    "#overlay = Overlay('/home/xilinx/resizer.bit')\n",
    "\n",
    "\n",
    "#overlay.ip_dict\n",
    "\n",
    "\n",
    "# Load the FIR DMA\n",
    "dma = overlay.axi_dma_0\n",
    "dma"
   ]
  },
  {
   "cell_type": "code",
   "execution_count": 7,
   "metadata": {},
   "outputs": [],
   "source": [
    "import numpy as np\n",
    "\n",
    "# Number of samples\n",
    "n = 3\n",
    "m = n*3"
   ]
  },
  {
   "cell_type": "code",
   "execution_count": 8,
   "metadata": {},
   "outputs": [
    {
     "name": "stdout",
     "output_type": "stream",
     "text": [
      "Buffer in before receive from DMA\n",
      "0\n",
      "1\n",
      "2\n",
      "Buffer out before receive from DMA\n",
      "0\n",
      "0\n",
      "0\n",
      "0\n",
      "0\n",
      "0\n",
      "0\n",
      "0\n",
      "0\n"
     ]
    }
   ],
   "source": [
    "from pynq import Xlnk\n",
    "from pynq import allocate\n",
    "import numpy as np\n",
    "\n",
    "# Allocate buffers for the input and output signals\n",
    "xlnk = Xlnk()\n",
    "\n",
    "in_buffer = xlnk.cma_array(shape=(n,), dtype=np.int32)\n",
    "out_buffer = xlnk.cma_array(shape=(m,), dtype=np.int32)\n",
    "#in_buffer = allocate(shape=(n,), dtype=np.uint32)\n",
    "#out_buffer = allocate(shape=(n,), dtype=np.uint32)\n",
    "\n",
    "print('Buffer in before receive from DMA')\n",
    "\n",
    "for i in range(n):\n",
    "    in_buffer[i] = i\n",
    "    print(in_buffer[i])\n",
    "    \n",
    "print('Buffer out before receive from DMA')\n",
    "\n",
    "for i in range(m):\n",
    "    print(out_buffer[i])\n",
    "\n",
    "    \n"
   ]
  },
  {
   "cell_type": "code",
   "execution_count": null,
   "metadata": {},
   "outputs": [],
   "source": [
    "# Trigger the DMA transfer and wait for the result\n",
    "import time\n",
    "start_time = time.time()\n",
    "\n",
    "############\n",
    "dma.sendchannel.transfer(in_buffer)\n",
    "dma.recvchannel.transfer(out_buffer)\n",
    "dma.sendchannel.wait()\n",
    "dma.recvchannel.wait()\n",
    "###########\n",
    "\n",
    "stop_time = time.time()\n",
    "hw_exec_time = stop_time-start_time\n",
    "print('Hardware output: ',hw_exec_time)\n",
    "\n",
    "cont = 0\n",
    "for i in range(0, m): \n",
    "    cont = cont+1\n",
    "    if (cont == 3):\n",
    "        print('Adder result: ', out_buffer[i])\n",
    "        print('-----')\n",
    "        cont = 0\n",
    "    else:\n",
    "        print('[', i, ']: ', out_buffer[i])\n",
    "\n",
    "\n",
    "# Free the buffers\n",
    "in_buffer.close()\n",
    "out_buffer.close()"
   ]
  },
  {
   "cell_type": "code",
   "execution_count": null,
   "metadata": {},
   "outputs": [],
   "source": []
  },
  {
   "cell_type": "code",
   "execution_count": null,
   "metadata": {},
   "outputs": [],
   "source": []
  }
 ],
 "metadata": {
  "kernelspec": {
   "display_name": "Python 3",
   "language": "python",
   "name": "python3"
  },
  "language_info": {
   "codemirror_mode": {
    "name": "ipython",
    "version": 3
   },
   "file_extension": ".py",
   "mimetype": "text/x-python",
   "name": "python",
   "nbconvert_exporter": "python",
   "pygments_lexer": "ipython3",
   "version": "3.6.5"
  }
 },
 "nbformat": 4,
 "nbformat_minor": 2
}
