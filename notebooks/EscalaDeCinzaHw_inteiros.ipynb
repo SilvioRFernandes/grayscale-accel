{
 "cells": [
  {
   "cell_type": "code",
   "execution_count": 9,
   "metadata": {},
   "outputs": [
    {
     "data": {
      "text/plain": [
       "<pynq.lib.dma.DMA at 0x7f63a10c88>"
      ]
     },
     "execution_count": 9,
     "metadata": {},
     "output_type": "execute_result"
    }
   ],
   "source": [
    "from pynq import Overlay\n",
    "import pynq.lib.dma\n",
    "\n",
    "# Load the overlay\n",
    "#overlay = Overlay('/home/xilinx/jupyter_notebooks/FIFOStream_Adder/FIFOStream_Adder.bit')\n",
    "overlay = Overlay('/home/xilinx/resizer.bit')\n",
    "\n",
    "\n",
    "#overlay.ip_dict\n",
    "\n",
    "\n",
    "# Load the FIR DMA\n",
    "dma = overlay.axi_dma_0\n",
    "dma"
   ]
  },
  {
   "cell_type": "code",
   "execution_count": 10,
   "metadata": {},
   "outputs": [],
   "source": [
    "import numpy as np\n",
    "\n",
    "# Number of samples\n",
    "m = 10\n",
    "n = m*3"
   ]
  },
  {
   "cell_type": "code",
   "execution_count": 11,
   "metadata": {},
   "outputs": [
    {
     "name": "stdout",
     "output_type": "stream",
     "text": [
      "Buffer in before receive from DMA\n",
      "0\n",
      "1\n",
      "2\n",
      "3\n",
      "4\n",
      "5\n",
      "6\n",
      "7\n",
      "8\n",
      "9\n",
      "10\n",
      "11\n",
      "12\n",
      "13\n",
      "14\n",
      "15\n",
      "16\n",
      "17\n",
      "18\n",
      "19\n",
      "20\n",
      "21\n",
      "22\n",
      "23\n",
      "24\n",
      "25\n",
      "26\n",
      "27\n",
      "28\n",
      "29\n",
      "Buffer out before receive from DMA\n",
      "0\n",
      "0\n",
      "0\n",
      "0\n",
      "0\n",
      "0\n",
      "0\n",
      "0\n",
      "0\n",
      "0\n"
     ]
    }
   ],
   "source": [
    "from pynq import Xlnk\n",
    "from pynq import allocate\n",
    "import numpy as np\n",
    "\n",
    "# Allocate buffers for the input and output signals\n",
    "xlnk = Xlnk()\n",
    "\n",
    "in_buffer = xlnk.cma_array(shape=(n,), dtype=np.int32)\n",
    "out_buffer = xlnk.cma_array(shape=(m,), dtype=np.int32)\n",
    "#in_buffer = allocate(shape=(n,), dtype=np.uint32)\n",
    "#out_buffer = allocate(shape=(n,), dtype=np.uint32)\n",
    "\n",
    "print('Buffer in before receive from DMA')\n",
    "\n",
    "for i in range(n):\n",
    "    in_buffer[i] = i\n",
    "    print(in_buffer[i])\n",
    "    \n",
    "print('Buffer out before receive from DMA')\n",
    "\n",
    "for i in range(m):\n",
    "    print(out_buffer[i])\n",
    "\n",
    "    \n"
   ]
  },
  {
   "cell_type": "code",
   "execution_count": 12,
   "metadata": {},
   "outputs": [
    {
     "name": "stdout",
     "output_type": "stream",
     "text": [
      "Hardware output:  0.0011420249938964844\n",
      "[ 0 ]:  0\n",
      "[ 1 ]:  3\n",
      "[ 2 ]:  6\n",
      "[ 3 ]:  9\n",
      "[ 4 ]:  12\n",
      "[ 5 ]:  15\n",
      "[ 6 ]:  18\n",
      "[ 7 ]:  21\n",
      "[ 8 ]:  24\n",
      "[ 9 ]:  27\n"
     ]
    }
   ],
   "source": [
    "# Trigger the DMA transfer and wait for the result\n",
    "import time\n",
    "start_time = time.time()\n",
    "\n",
    "############\n",
    "dma.sendchannel.transfer(in_buffer)\n",
    "dma.recvchannel.transfer(out_buffer)\n",
    "dma.sendchannel.wait()\n",
    "dma.recvchannel.wait()\n",
    "###########\n",
    "\n",
    "stop_time = time.time()\n",
    "hw_exec_time = stop_time-start_time\n",
    "print('Hardware output: ',hw_exec_time)\n",
    "\n",
    "cont = 0\n",
    "for i in range(0, m): \n",
    "    print('[', i, ']: ', out_buffer[i])\n",
    "\n",
    "\n",
    "# Free the buffers\n",
    "in_buffer.close()\n",
    "out_buffer.close()"
   ]
  },
  {
   "cell_type": "code",
   "execution_count": 13,
   "metadata": {},
   "outputs": [
    {
     "data": {
      "text/plain": [
       "3.815"
      ]
     },
     "execution_count": 13,
     "metadata": {},
     "output_type": "execute_result"
    }
   ],
   "source": [
    "(3*299+4*587+5*114)/1000"
   ]
  },
  {
   "cell_type": "code",
   "execution_count": 14,
   "metadata": {},
   "outputs": [
    {
     "data": {
      "text/plain": [
       "6.815"
      ]
     },
     "execution_count": 14,
     "metadata": {},
     "output_type": "execute_result"
    }
   ],
   "source": [
    "(6*299+7*587+8*114)/1000"
   ]
  },
  {
   "cell_type": "code",
   "execution_count": null,
   "metadata": {},
   "outputs": [],
   "source": []
  }
 ],
 "metadata": {
  "kernelspec": {
   "display_name": "Python 3",
   "language": "python",
   "name": "python3"
  },
  "language_info": {
   "codemirror_mode": {
    "name": "ipython",
    "version": 3
   },
   "file_extension": ".py",
   "mimetype": "text/x-python",
   "name": "python",
   "nbconvert_exporter": "python",
   "pygments_lexer": "ipython3",
   "version": "3.6.5"
  }
 },
 "nbformat": 4,
 "nbformat_minor": 2
}
